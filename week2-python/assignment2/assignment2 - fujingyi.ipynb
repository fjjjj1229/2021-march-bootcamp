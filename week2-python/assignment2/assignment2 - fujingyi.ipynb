{
 "cells": [
  {
   "cell_type": "markdown",
   "metadata": {},
   "source": [
    "# 注意\n",
    "\n",
    "# Copy this file and rename assignment2-{first_name}.ipynb \n",
    "\n",
    "### 解题步骤\n",
    "\n",
    "* understand question and test case\n",
    "* check input\n",
    "* algorithm\n",
    "* check return\n"
   ]
  },
  {
   "cell_type": "code",
   "execution_count": 9,
   "metadata": {},
   "outputs": [],
   "source": [
    "# Instruction: make sure your code pass the assertion statements\n",
    "\n",
    "# Q1. Given a positive integer N. The task is to write a Python program to check if the number is prime or not.\n",
    "def is_prime(n: int) -> bool:\n",
    "    isPrime = True\n",
    "    if n <= 0:\n",
    "        isPrime = False\n",
    "    for i in range(2,n):\n",
    "        if n % i == 0:          #it is not prime\n",
    "            isPrime = False\n",
    "            break\n",
    "    return isPrime\n",
    "\n",
    "\n",
    "# DO NOT ALTER BELOW.\n",
    "assert is_prime(2)\n",
    "assert not is_prime(15)\n",
    "assert is_prime(7907)\n",
    "assert not is_prime(-1)\n",
    "assert not is_prime(0)"
   ]
  },
  {
   "cell_type": "code",
   "execution_count": 12,
   "metadata": {},
   "outputs": [
    {
     "ename": "SyntaxError",
     "evalue": "invalid syntax (<ipython-input-12-960e56686160>, line 9)",
     "output_type": "error",
     "traceback": [
      "\u001b[1;36m  File \u001b[1;32m\"<ipython-input-12-960e56686160>\"\u001b[1;36m, line \u001b[1;32m9\u001b[0m\n\u001b[1;33m    return result\u001b[0m\n\u001b[1;37m    ^\u001b[0m\n\u001b[1;31mSyntaxError\u001b[0m\u001b[1;31m:\u001b[0m invalid syntax\n"
     ]
    }
   ],
   "source": [
    "# Q2 Write a function rotate(ar[], d) that rotates arr[] of size n by d elements.\n",
    "# Input ar = [1,2,3,4,5,6,7], d = 2\n",
    "# Output [3,4,5,6,7,1,2]\n",
    "\n",
    "def rotate(ar: [int], d: int) -> [int]:\n",
    "    result = []\n",
    "    for i in ar:\n",
    "        result.append(int(ar[i]+d)\n",
    "    return result\n",
    "\n",
    "print(rotate([1,2,3,4,5,6,7],2))\n",
    "# DO NOT ALTER BELOW.\n",
    "assert rotate([1,2,3,4,5,6,7], 2) == [3,4,5,6,7,1,2]\n",
    "assert rotate([1,2,3], 4) == [2,3,1]"
   ]
  },
  {
   "cell_type": "code",
   "execution_count": null,
   "metadata": {},
   "outputs": [],
   "source": [
    "# Selection sort - implement a workable selection sort algorithm\n",
    "# https://www.runoob.com/w3cnote/selection-sort.html 作为参考\n",
    "# Input students would be a list of [student #, score], sort by score ascending order.\n",
    "\n",
    "def selection_sort(arr: [[int]]) -> [[int]]:\n",
    "    return arr\n",
    "\n",
    "\n",
    "# DO NOT ALTER BELOW.\n",
    "assert selection_sort([]) == []\n",
    "assert selection_sort([[1, 100], [2, 70], [3, 95], [4, 66], [5, 98]]) == [[4, 66], [2, 70], [3, 95], [5, 98], [1, 100]]"
   ]
  },
  {
   "cell_type": "code",
   "execution_count": null,
   "metadata": {},
   "outputs": [],
   "source": [
    "# Q4. Convert a list of Tuples into Dictionary\n",
    "\n",
    "# tips: copy operation - copy by value, copy by reference\n",
    "\n",
    "def convert(tup: (any), di: {any, any}) -> None: \n",
    "    pass\n",
    "    # Do NOT RETURN di, EDIT IN-PLACE\n",
    "    \n",
    "    \n",
    "# DO NOT ALTER BELOW.\n",
    "expected_dict = {}\n",
    "convert((), expected_dict)\n",
    "assert expected_dict == {}\n",
    "\n",
    "convert(('key1', 'val1', 'key2', 'val2'), expected_dict)\n",
    "assert expected_dict == {'key1': 'val1', 'key2': 'val2'} \n"
   ]
  },
  {
   "cell_type": "code",
   "execution_count": null,
   "metadata": {},
   "outputs": [],
   "source": [
    "# Q5. 研究为什么 Python dict 可以做到常数级别的查找效率，将答案写在 assignment2-{firstname}.ipynb"
   ]
  }
 ],
 "metadata": {
  "kernelspec": {
   "display_name": "Python 3",
   "language": "python",
   "name": "python3"
  },
  "language_info": {
   "codemirror_mode": {
    "name": "ipython",
    "version": 3
   },
   "file_extension": ".py",
   "mimetype": "text/x-python",
   "name": "python",
   "nbconvert_exporter": "python",
   "pygments_lexer": "ipython3",
   "version": "3.8.5"
  }
 },
 "nbformat": 4,
 "nbformat_minor": 4
}
